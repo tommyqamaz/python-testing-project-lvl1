{
 "cells": [
  {
   "cell_type": "code",
   "execution_count": 1,
   "metadata": {},
   "outputs": [],
   "source": [
    "from typing import List, Tuple\n",
    "import os\n",
    "from bs4 import BeautifulSoup, Tag\n",
    "import requests\n",
    "from urllib.parse import urlparse\n",
    "import re\n",
    "from page_loader.utils import filter_name, join_urls"
   ]
  },
  {
   "cell_type": "code",
   "execution_count": 19,
   "metadata": {},
   "outputs": [],
   "source": [
    "with open(\"./fixtures/before.html\", \"r\") as f:\n",
    "    before = f.read()\n",
    "\n",
    "with open(\"./fixtures/after.html\", \"r\") as f:\n",
    "    after = f.read()\n",
    "\n",
    "bsoup = BeautifulSoup(before)\n",
    "asoup = BeautifulSoup(after)\n",
    "\n",
    "url = 'https://ru.hexlet.io/courses'"
   ]
  },
  {
   "cell_type": "code",
   "execution_count": 20,
   "metadata": {},
   "outputs": [],
   "source": [
    "def get_link(tag: Tag) -> Tuple[str]:\n",
    "    for attr in [\"href\", \"src\"]:\n",
    "        link = tag.attrs.get(attr)\n",
    "        if link:\n",
    "            return link, attr\n",
    "    return None, None\n",
    "\n",
    "\n",
    "def get_file_ext(link):\n",
    "    file_ext = re.findall(r\"\\.[\\w]*$\", link)\n",
    "    if not file_ext:\n",
    "        return \".html\"\n",
    "    else:\n",
    "        return file_ext[0]"
   ]
  },
  {
   "cell_type": "code",
   "execution_count": 21,
   "metadata": {},
   "outputs": [],
   "source": [
    "def replace_links(\n",
    "    soup: BeautifulSoup, base_url: str, save_dir: str = \"\"\n",
    ") -> Tuple[BeautifulSoup, List[Tuple[str]]]:\n",
    "    \"\"\"Replace all links, images, css styles, scripts, etc.\n",
    "    to local copies in beatiful soup html document.\n",
    "\n",
    "    Example with url = \"https://ru.hexlet.io/courses\"\n",
    "    before:\n",
    "        <link href=\"/assets/application.css\" media=\"all\" rel=\"stylesheet\"/>\n",
    "        <img alt=\"Иконка профессии Python-программист\"\n",
    "         src=\"/assets/professions/python.png\"/>\n",
    "    after:\n",
    "        <link href=\"ru-hexlet-io-courses_files/ru-hexlet-io-assets-application.css\"\n",
    "        media=\"all\" rel=\"stylesheet\"/>\n",
    "        <img alt=\"Иконка профессии Python-программист\"\n",
    "        src=\"ru-hexlet-io-courses_files/ru-hexlet-io-assets-professions-python.png\"/>\n",
    "\n",
    "    Args:\n",
    "        soup (BeautifulSoup): The original document in which\n",
    "        you need to replace the links\n",
    "        base_url (str): Origin url for soup.\n",
    "        save_dir (str): Where to place replaced links.\n",
    "    Returns:\n",
    "        Tuple[BeautifulSoup, List[str]]: Soup with replaced links,\n",
    "        list with Tuple, where first element is link and second one is file name\n",
    "    \"\"\"\n",
    "    links = []\n",
    "\n",
    "    for tag in soup.find_all([\"link\", \"script\", \"img\"]):\n",
    "        link, attr = get_link(tag)\n",
    "        if link:\n",
    "\n",
    "            file_ext = get_file_ext(link)\n",
    "            link_netloc = link.replace(file_ext, \"\")\n",
    "            url_netloc = urlparse(base_url).netloc\n",
    "\n",
    "            if url_netloc == urlparse(link).netloc:\n",
    "                new_link = filter_name(link_netloc) + file_ext\n",
    "                links.append((link_netloc + file_ext, new_link))\n",
    "\n",
    "            elif not link.startswith(\"http\"):\n",
    "\n",
    "                new_link = filter_name(join_urls(url_netloc, link_netloc)) + file_ext\n",
    "\n",
    "                link_to_save = join_urls(urlparse(base_url).scheme, url_netloc, link_netloc)\n",
    "                print(link_to_save, link_netloc)\n",
    "\n",
    "                links.append((link_to_save, new_link))\n",
    "\n",
    "            else:\n",
    "                continue  # we dont need to change or save other types of links\n",
    "            save_dir = filter_name(base_url) + \"_files\"\n",
    "            tag[attr] = join_urls(save_dir, new_link)\n",
    "\n",
    "    return soup, links"
   ]
  },
  {
   "cell_type": "code",
   "execution_count": null,
   "metadata": {},
   "outputs": [],
   "source": [
    "replace_links(bsoup, url)"
   ]
  },
  {
   "cell_type": "code",
   "execution_count": 23,
   "metadata": {},
   "outputs": [],
   "source": [
    "s, links = _"
   ]
  },
  {
   "cell_type": "code",
   "execution_count": 24,
   "metadata": {},
   "outputs": [
    {
     "data": {
      "text/plain": [
       "[('ru.hexlet.io/assets/application', 'ru-hexlet-io-assets-application.css'),\n",
       " ('ru.hexlet.io/courses', 'ru-hexlet-io-courses.html'),\n",
       " ('ru.hexlet.io/assets/professions/python',\n",
       "  'ru-hexlet-io-assets-professions-python.png'),\n",
       " ('https://ru.hexlet.io/packs/js/runtime.js',\n",
       "  'ru-hexlet-io-packs-js-runtime.js')]"
      ]
     },
     "execution_count": 24,
     "metadata": {},
     "output_type": "execute_result"
    }
   ],
   "source": [
    "links"
   ]
  },
  {
   "cell_type": "code",
   "execution_count": 25,
   "metadata": {},
   "outputs": [
    {
     "data": {
      "text/plain": [
       "ParseResult(scheme='https', netloc='ru.hexlet.io', path='/packs/js/runtime.js', params='', query='', fragment='')"
      ]
     },
     "execution_count": 25,
     "metadata": {},
     "output_type": "execute_result"
    }
   ],
   "source": [
    "urlparse('https://ru.hexlet.io/packs/js/runtime.js')"
   ]
  },
  {
   "cell_type": "code",
   "execution_count": 108,
   "metadata": {},
   "outputs": [],
   "source": [
    "pairs = [\n",
    "    (\n",
    "        \"https://ru.hexlet.io/courses/assets/application.css\",\n",
    "        \"ru-hexlet-io-assets-application.css\",\n",
    "    ),\n",
    "    (\"https://ru.hexlet.io/courses/courses\", \"ru-hexlet-io-courses.html\"),\n",
    "    (\n",
    "        \"https://ru.hexlet.io/courses/assets/professions/python.png\",\n",
    "        \"ru-hexlet-io-assets-professions-python.png\",\n",
    "    ),\n",
    "    (\"https://ru.hexlet.io/packs/js/runtime.js\", \"ru-hexlet-io-packs-js-runtime.js\"),\n",
    "]"
   ]
  },
  {
   "cell_type": "code",
   "execution_count": null,
   "metadata": {},
   "outputs": [],
   "source": [
    "replace_links(bsoup, 'https://ru.hexlet.io/courses', '.')"
   ]
  },
  {
   "cell_type": "code",
   "execution_count": 71,
   "metadata": {},
   "outputs": [],
   "source": [
    "tag = bsoup.find_all([\"link\", \"script\", \"img\"])[1]\n",
    "link, attr = get_link(tag)\n",
    "file_ext = get_file_ext(link)\n",
    "link_netloc = link.replace(file_ext, \"\")"
   ]
  },
  {
   "cell_type": "code",
   "execution_count": 136,
   "metadata": {},
   "outputs": [
    {
     "name": "stdout",
     "output_type": "stream",
     "text": [
      "b'content'\n",
      "b'content'\n",
      "b'content'\n",
      "b'content'\n"
     ]
    }
   ],
   "source": [
    "with requests_mock.Mocker() as mock:\n",
    "    matcher = re.compile(urlparse(url).netloc)\n",
    "    mock.register_uri(\"GET\", matcher, content=b'content')\n",
    "    for link in pairs:\n",
    "        res = requests.get(link[0])\n",
    "        print(res.content)"
   ]
  },
  {
   "cell_type": "code",
   "execution_count": 3,
   "metadata": {},
   "outputs": [],
   "source": [
    "from page_loader.utils import get_soup\n",
    "from page_loader.scrap import replace_links, download_links\n",
    "import os\n",
    "url = 'https://books.toscrape.com/'"
   ]
  },
  {
   "cell_type": "code",
   "execution_count": 4,
   "metadata": {},
   "outputs": [],
   "source": [
    "soup = get_soup(url)"
   ]
  },
  {
   "cell_type": "code",
   "execution_count": 6,
   "metadata": {},
   "outputs": [],
   "source": [
    "soup, pairs = replace_links(soup, url, os.getcwd())"
   ]
  },
  {
   "cell_type": "code",
   "execution_count": 7,
   "metadata": {},
   "outputs": [
    {
     "data": {
      "text/plain": [
       "[]"
      ]
     },
     "execution_count": 7,
     "metadata": {},
     "output_type": "execute_result"
    }
   ],
   "source": [
    "pairs"
   ]
  },
  {
   "cell_type": "code",
   "execution_count": null,
   "metadata": {},
   "outputs": [],
   "source": []
  }
 ],
 "metadata": {
  "kernelspec": {
   "display_name": "Python 3.8.10 ('.venv': poetry)",
   "language": "python",
   "name": "python3"
  },
  "language_info": {
   "codemirror_mode": {
    "name": "ipython",
    "version": 3
   },
   "file_extension": ".py",
   "mimetype": "text/x-python",
   "name": "python",
   "nbconvert_exporter": "python",
   "pygments_lexer": "ipython3",
   "version": "3.8.10"
  },
  "orig_nbformat": 4,
  "vscode": {
   "interpreter": {
    "hash": "71bfcb4e25f3a19252cf92d45d4551daed63ec65d91940a10bec32c181958570"
   }
  }
 },
 "nbformat": 4,
 "nbformat_minor": 2
}
