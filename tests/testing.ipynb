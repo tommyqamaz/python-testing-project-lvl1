{
 "cells": [
  {
   "cell_type": "code",
   "execution_count": 81,
   "metadata": {},
   "outputs": [],
   "source": [
    "from typing import List, Tuple\n",
    "import os\n",
    "from bs4 import BeautifulSoup, Tag\n",
    "import requests\n",
    "from urllib.parse import urlparse\n",
    "import re\n",
    "from page_loader.utils import filter_name, join_urls"
   ]
  },
  {
   "cell_type": "code",
   "execution_count": 2,
   "metadata": {},
   "outputs": [],
   "source": [
    "with open(\"./fixtures/before.html\", \"r\") as f:\n",
    "    before = f.read()\n",
    "\n",
    "with open(\"./fixtures/after.html\", \"r\") as f:\n",
    "    after = f.read()"
   ]
  },
  {
   "cell_type": "code",
   "execution_count": 67,
   "metadata": {},
   "outputs": [],
   "source": [
    "bsoup = BeautifulSoup(before)\n",
    "asoup = BeautifulSoup(after)"
   ]
  },
  {
   "cell_type": "code",
   "execution_count": 94,
   "metadata": {},
   "outputs": [],
   "source": [
    "def replace_links(\n",
    "    soup: BeautifulSoup, base_url: str, save_dir: str\n",
    ") -> Tuple[BeautifulSoup, List[str]]:\n",
    "    \"\"\"Replace all links, images, css styles, scripts, etc.\n",
    "    to local copies in beatiful soup html document.\n",
    "\n",
    "    Example with url = \"https://ru.hexlet.io/courses\"\n",
    "    before:\n",
    "        <link href=\"/assets/application.css\" media=\"all\" rel=\"stylesheet\"/>\n",
    "        <img alt=\"Иконка профессии Python-программист\" src=\"/assets/professions/python.png\"/>\n",
    "    after:\n",
    "        <link href=\"ru-hexlet-io-courses_files/ru-hexlet-io-assets-application.css\" media=\"all\" rel=\"stylesheet\"/>\n",
    "        <img alt=\"Иконка профессии Python-программист\"\n",
    "        src=\"ru-hexlet-io-courses_files/ru-hexlet-io-assets-professions-python.png\"/>\n",
    "\n",
    "    Args:\n",
    "        soup (BeautifulSoup): The original document in which you need to replace the links\n",
    "        base_url (str): Origin url for soup.\n",
    "        save_dir (str): Where to place replaced links.\n",
    "    Returns:\n",
    "        Tuple[BeautifulSoup, List[str]]: Soup with replaced links, list of all replaced links\n",
    "    \"\"\"\n",
    "    links = []\n",
    "\n",
    "    for tag in soup.find_all([\"link\", \"script\", \"img\"]):\n",
    "        link, attr = get_link(tag)\n",
    "        if link:\n",
    "\n",
    "            file_ext = get_file_ext(link)\n",
    "            link_netloc = link.replace(file_ext, \"\")\n",
    "\n",
    "            if link.startswith(\"/\"):\n",
    "\n",
    "                new_link = (\n",
    "                    join_urls(filter_name(base_url), filter_name(link_netloc))\n",
    "                    + file_ext\n",
    "                )\n",
    "\n",
    "                link_to_save = join_urls(base_url, link)\n",
    "                links.append(link_to_save)\n",
    "\n",
    "            elif urlparse(base_url).netloc == urlparse(link).netloc:\n",
    "                new_link = filter_name(link_netloc) + file_ext\n",
    "                links.append(link_netloc + file_ext)\n",
    "            else:\n",
    "                continue  # we dont need to change or save other types of links\n",
    "\n",
    "            tag[attr] = join_urls(save_dir, new_link)\n",
    "\n",
    "    return soup, links"
   ]
  },
  {
   "cell_type": "code",
   "execution_count": 95,
   "metadata": {},
   "outputs": [
    {
     "data": {
      "text/plain": [
       "(<!-- Используйте этот код в своём проекте -->\n",
       " <!DOCTYPE html>\n",
       " \n",
       " <html lang=\"ru\">\n",
       " <head>\n",
       " <meta charset=\"utf-8\"/>\n",
       " <title>\n",
       "    Курсы по программированию Хекслет\n",
       "   </title>\n",
       " <link href=\"https://cdn2.hexlet.io/assets/menu.css\" media=\"all\" rel=\"stylesheet\"/>\n",
       " <link href=\"./ru-hexlet-io-courses/assets-application.css\" media=\"all\" rel=\"stylesheet\"/>\n",
       " <link href=\"./ru-hexlet-io-courses/courses.html\" rel=\"canonical\"/>\n",
       " </head>\n",
       " <body>\n",
       " <img alt=\"Иконка профессии Python-программист\" src=\"./ru-hexlet-io-courses/assets-professions-python.png\"/>\n",
       " <img alt=\"Иконка профессии Python-ананист\" src=\"https://s7d2.scene7.com/is/image/Caterpillar/CM20180911-37279-17325\"/>\n",
       " <h3>\n",
       " <a href=\"/professions/python\">\n",
       "     Python-программист\n",
       "    </a>\n",
       " </h3>\n",
       " <script src=\"https://js.stripe.com/v3/\">\n",
       " </script>\n",
       " <script src=\"./ru-hexlet-io-packs-js-runtime.js\">\n",
       " </script>\n",
       " </body>\n",
       " </html>,\n",
       " ['https://ru.hexlet.io/courses/assets/application.css',\n",
       "  'https://ru.hexlet.io/courses/courses',\n",
       "  'https://ru.hexlet.io/courses/assets/professions/python.png',\n",
       "  'https://ru.hexlet.io/packs/js/runtime.js'])"
      ]
     },
     "execution_count": 95,
     "metadata": {},
     "output_type": "execute_result"
    }
   ],
   "source": [
    "replace_links(bsoup, 'https://ru.hexlet.io/courses', '.')"
   ]
  },
  {
   "cell_type": "code",
   "execution_count": 71,
   "metadata": {},
   "outputs": [],
   "source": [
    "tag = bsoup.find_all([\"link\", \"script\", \"img\"])[1]\n",
    "link, attr = get_link(tag)"
   ]
  },
  {
   "cell_type": "code",
   "execution_count": 77,
   "metadata": {},
   "outputs": [],
   "source": [
    "file_ext = get_file_ext(link)\n",
    "link_netloc = link.replace(file_ext, \"\")"
   ]
  },
  {
   "cell_type": "code",
   "execution_count": 80,
   "metadata": {},
   "outputs": [
    {
     "data": {
      "text/plain": [
       "'/assets/application'"
      ]
     },
     "execution_count": 80,
     "metadata": {},
     "output_type": "execute_result"
    }
   ],
   "source": [
    "link_netloc"
   ]
  },
  {
   "cell_type": "code",
   "execution_count": 91,
   "metadata": {},
   "outputs": [
    {
     "data": {
      "text/plain": [
       "'assets-application'"
      ]
     },
     "execution_count": 91,
     "metadata": {},
     "output_type": "execute_result"
    }
   ],
   "source": [
    "filter_name(link_netloc)"
   ]
  },
  {
   "cell_type": "code",
   "execution_count": 92,
   "metadata": {},
   "outputs": [
    {
     "data": {
      "text/plain": [
       "'ru-hexlet-io-courses'"
      ]
     },
     "execution_count": 92,
     "metadata": {},
     "output_type": "execute_result"
    }
   ],
   "source": [
    "filter_name(url)"
   ]
  },
  {
   "cell_type": "code",
   "execution_count": 93,
   "metadata": {},
   "outputs": [
    {
     "data": {
      "text/plain": [
       "'ru-hexlet-io-courses/assets-application'"
      ]
     },
     "execution_count": 93,
     "metadata": {},
     "output_type": "execute_result"
    }
   ],
   "source": [
    "join_urls(filter_name(url), filter_name(link_netloc))"
   ]
  }
 ],
 "metadata": {
  "kernelspec": {
   "display_name": "Python 3.8.10 ('.venv': poetry)",
   "language": "python",
   "name": "python3"
  },
  "language_info": {
   "codemirror_mode": {
    "name": "ipython",
    "version": 3
   },
   "file_extension": ".py",
   "mimetype": "text/x-python",
   "name": "python",
   "nbconvert_exporter": "python",
   "pygments_lexer": "ipython3",
   "version": "3.8.10"
  },
  "orig_nbformat": 4,
  "vscode": {
   "interpreter": {
    "hash": "71bfcb4e25f3a19252cf92d45d4551daed63ec65d91940a10bec32c181958570"
   }
  }
 },
 "nbformat": 4,
 "nbformat_minor": 2
}
