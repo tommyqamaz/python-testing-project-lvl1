{
 "cells": [
  {
   "cell_type": "code",
   "execution_count": 52,
   "metadata": {},
   "outputs": [],
   "source": [
    "from unittest.mock import Mock\n",
    "import requests_mock\n",
    "import os\n",
    "import requests\n",
    "import re\n",
    "from bs4 import BeautifulSoup\n",
    "from page_loader.utils import filter_name\n",
    "from urllib.parse import urlparse"
   ]
  },
  {
   "cell_type": "code",
   "execution_count": 3,
   "metadata": {},
   "outputs": [],
   "source": [
    "def scrap_images(base_url: str, path: str = os.getcwd()) -> BeautifulSoup:\n",
    "    \"\"\"\n",
    "    Downloades page and returns html page with replaced to local copies images.\n",
    "    \"\"\"\n",
    "\n",
    "    html_page = requests.get(base_url)\n",
    "    soup = BeautifulSoup(html_page.content, \"html.parser\")\n",
    "    base_dir = os.path.join(path, filter_name(base_url) + \"_files\")\n",
    "\n",
    "    if not os.path.exists(base_dir):\n",
    "        os.makedirs(base_dir)\n",
    "\n",
    "    for image in soup.find_all(\"img\"):\n",
    "        image_url = os.path.join(base_url, image[\"src\"])\n",
    "        response = requests.get(image_url)\n",
    "        if response.status_code == 200:\n",
    "\n",
    "            path_to_save = os.path.join(base_dir, filter_name(image_url))\n",
    "            path_to_save = re.sub(r\"-(?=[\\w]*$)\", \".\", path_to_save)\n",
    "\n",
    "            image[\"src\"] = path_to_save\n",
    "\n",
    "            file = open(f\"{path_to_save}\", \"wb\")\n",
    "            file.write(response.content)\n",
    "            file.close()\n",
    "        else:\n",
    "            raise RuntimeError(response.status_code)\n",
    "\n",
    "    return soup, base_dir"
   ]
  },
  {
   "cell_type": "code",
   "execution_count": 11,
   "metadata": {},
   "outputs": [],
   "source": [
    "url = \"https://ru.hexlet.io/courses\"\n",
    "# logger = FakeLogger()\n",
    "\n",
    "with open(\"./fixtures/before.html\", \"r\") as f:\n",
    "    before = BeautifulSoup(f.read(), \"html.parser\")\n",
    "\n",
    "with open(\"./fixtures/after.html\", \"r\") as f:\n",
    "    after = BeautifulSoup(f.read(), \"html.parser\")"
   ]
  },
  {
   "cell_type": "code",
   "execution_count": 14,
   "metadata": {},
   "outputs": [],
   "source": [
    "image = before.find_all('img')[0]"
   ]
  },
  {
   "cell_type": "code",
   "execution_count": 22,
   "metadata": {},
   "outputs": [],
   "source": [
    "image_url = url + image[\"src\"]\n"
   ]
  },
  {
   "cell_type": "code",
   "execution_count": 23,
   "metadata": {},
   "outputs": [
    {
     "data": {
      "text/plain": [
       "'https://ru.hexlet.io/courses/assets/professions/python.png'"
      ]
     },
     "execution_count": 23,
     "metadata": {},
     "output_type": "execute_result"
    }
   ],
   "source": [
    "image_url"
   ]
  },
  {
   "cell_type": "code",
   "execution_count": 4,
   "metadata": {},
   "outputs": [],
   "source": [
    "def join_urls(url1, url2):\n",
    "    if url1.endswith('/'):\n",
    "        url1 = url1[:-1]\n",
    "    if url2.startswith('/'):\n",
    "        url2 = url2[1:]\n",
    "    return os.path.join(url1, url2)"
   ]
  },
  {
   "cell_type": "code",
   "execution_count": 78,
   "metadata": {},
   "outputs": [],
   "source": [
    "with requests_mock.Mocker() as mock:\n",
    "    mock.register_uri('GET', url, text=str(before))\n",
    "    mock.register_uri('GET', join_urls(url, image['src']), content=im)\n",
    "    # mock.get(url, text=str(before))\n",
    "    result = requests.get(url).text\n",
    "    result2 = requests.get(join_urls(url, image['src']))"
   ]
  },
  {
   "cell_type": "code",
   "execution_count": 11,
   "metadata": {},
   "outputs": [],
   "source": [
    "with open('./fixtures/ru-hexlet-io-courses_files/ru-hexlet-io-assets-professions-python.png', 'rb') as f:\n",
    "    im = f.read()"
   ]
  },
  {
   "cell_type": "code",
   "execution_count": 6,
   "metadata": {},
   "outputs": [],
   "source": [
    "with open(\"./fixtures/before.html\", \"r\") as f:\n",
    "    before = f.read()"
   ]
  },
  {
   "cell_type": "code",
   "execution_count": 12,
   "metadata": {},
   "outputs": [],
   "source": [
    "base_url = \"https://ru.hexlet.io/courses\"\n",
    "image_url = \"https://ru.hexlet.io/courses/assets/professions/python.png\"\n",
    "path = '/tmp/tmpowaurutk/'"
   ]
  },
  {
   "cell_type": "code",
   "execution_count": 32,
   "metadata": {},
   "outputs": [],
   "source": [
    "with requests_mock.Mocker() as mock:\n",
    "    mock.register_uri(\"GET\", base_url, text=str(before))\n",
    "    mock.register_uri(\"GET\", image_url, content=im)\n",
    "    html_page = requests.get(base_url)\n",
    "    soup = BeautifulSoup(html_page.content, \"html.parser\")\n",
    "    \n",
    "    dir_name = filter_name(base_url) + \"_files\"\n",
    "    dir_path = os.path.join(path, filter_name(base_url) + \"_files\")"
   ]
  },
  {
   "cell_type": "code",
   "execution_count": 34,
   "metadata": {},
   "outputs": [
    {
     "data": {
      "text/plain": [
       "'/tmp/tmpowaurutk/ru-hexlet-io-courses_files'"
      ]
     },
     "execution_count": 34,
     "metadata": {},
     "output_type": "execute_result"
    }
   ],
   "source": [
    "dir_path"
   ]
  },
  {
   "cell_type": "code",
   "execution_count": 35,
   "metadata": {},
   "outputs": [],
   "source": [
    "image = soup.find_all(\"img\")[0]\n",
    "image_url = join_urls(base_url, image[\"src\"])"
   ]
  },
  {
   "cell_type": "code",
   "execution_count": 62,
   "metadata": {},
   "outputs": [],
   "source": [
    "with requests_mock.Mocker() as mock:\n",
    "    mock.register_uri(\"GET\", base_url, text=str(before))\n",
    "    mock.register_uri(\"GET\", image_url, content=im)\n",
    "    response = requests.get(image_url)\n",
    "    if response.status_code == 200:\n",
    "\n",
    "        image_src = join_urls(\n",
    "            urlparse(base_url).netloc.replace('.', '/'),\n",
    "             image[\"src\"]).replace('/', '-')\n",
    "             \n",
    "        path_to_save = join_urls(dir_path, image_src)\n",
    "\n",
    "        image[\"src\"] = join_urls(dir_name, image_src)"
   ]
  },
  {
   "cell_type": "code",
   "execution_count": 67,
   "metadata": {},
   "outputs": [
    {
     "data": {
      "text/plain": [
       "'ru-hexlet-io-courses_files/ru-hexlet-io-assets-professions-python.png'"
      ]
     },
     "execution_count": 67,
     "metadata": {},
     "output_type": "execute_result"
    }
   ],
   "source": [
    "image[\"src\"] "
   ]
  },
  {
   "cell_type": "code",
   "execution_count": 66,
   "metadata": {},
   "outputs": [],
   "source": [
    "image[\"src\"] = join_urls(dir_name, image_src)"
   ]
  },
  {
   "cell_type": "code",
   "execution_count": 64,
   "metadata": {},
   "outputs": [
    {
     "data": {
      "text/plain": [
       "'ru-hexlet-io-courses_files'"
      ]
     },
     "execution_count": 64,
     "metadata": {},
     "output_type": "execute_result"
    }
   ],
   "source": [
    "dir_name"
   ]
  },
  {
   "cell_type": "code",
   "execution_count": 63,
   "metadata": {},
   "outputs": [
    {
     "data": {
      "text/plain": [
       "'ru-hexlet-io-assets-professions-python.png'"
      ]
     },
     "execution_count": 63,
     "metadata": {},
     "output_type": "execute_result"
    }
   ],
   "source": [
    "image_src"
   ]
  },
  {
   "cell_type": "code",
   "execution_count": 60,
   "metadata": {},
   "outputs": [
    {
     "data": {
      "text/plain": [
       "'/tmp/tmpowaurutk/ru-hexlet-io-courses_files/ru-hexlet-io-assets-professions-python.png'"
      ]
     },
     "execution_count": 60,
     "metadata": {},
     "output_type": "execute_result"
    }
   ],
   "source": [
    "path_to_save"
   ]
  },
  {
   "cell_type": "code",
   "execution_count": 51,
   "metadata": {},
   "outputs": [
    {
     "data": {
      "text/plain": [
       "'ru-hexlet-io-assets-professions-python-png'"
      ]
     },
     "execution_count": 51,
     "metadata": {},
     "output_type": "execute_result"
    }
   ],
   "source": [
    "filter_name(join_urls(urlparse(base_url).netloc, image[\"src\"]))"
   ]
  },
  {
   "cell_type": "code",
   "execution_count": 54,
   "metadata": {},
   "outputs": [
    {
     "data": {
      "text/plain": [
       "'/tmp/tmpowaurutk/ru-hexlet-io-courses_files/ru-hexlet-io-assets-professions-python.png'"
      ]
     },
     "execution_count": 54,
     "metadata": {},
     "output_type": "execute_result"
    }
   ],
   "source": [
    "path_to_save"
   ]
  },
  {
   "cell_type": "code",
   "execution_count": 38,
   "metadata": {},
   "outputs": [
    {
     "data": {
      "text/plain": [
       "'/assets/professions/python.png'"
      ]
     },
     "execution_count": 38,
     "metadata": {},
     "output_type": "execute_result"
    }
   ],
   "source": [
    "image[\"src\"]"
   ]
  },
  {
   "cell_type": "code",
   "execution_count": 23,
   "metadata": {},
   "outputs": [
    {
     "data": {
      "text/plain": [
       "'/tmp/tmpowaurutk/ru-hexlet-io-courses_files/ru-hexlet-io-courses-assets-professions-python.png'"
      ]
     },
     "execution_count": 23,
     "metadata": {},
     "output_type": "execute_result"
    }
   ],
   "source": [
    "path_to_save"
   ]
  },
  {
   "cell_type": "code",
   "execution_count": 24,
   "metadata": {},
   "outputs": [
    {
     "data": {
      "text/plain": [
       "'ru-hexlet-io-courses-assets-professions-python-png'"
      ]
     },
     "execution_count": 24,
     "metadata": {},
     "output_type": "execute_result"
    }
   ],
   "source": [
    "filter_name(image_url)"
   ]
  },
  {
   "cell_type": "code",
   "execution_count": 26,
   "metadata": {},
   "outputs": [],
   "source": [
    "base_name = 'hexlet-io'"
   ]
  },
  {
   "cell_type": "code",
   "execution_count": null,
   "metadata": {},
   "outputs": [],
   "source": []
  },
  {
   "cell_type": "code",
   "execution_count": 27,
   "metadata": {},
   "outputs": [],
   "source": [
    "image_src= dir_name + image[\"src\"]"
   ]
  },
  {
   "cell_type": "code",
   "execution_count": 30,
   "metadata": {},
   "outputs": [
    {
     "data": {
      "text/plain": [
       "'-assets-professions-python.png'"
      ]
     },
     "execution_count": 30,
     "metadata": {},
     "output_type": "execute_result"
    }
   ],
   "source": [
    "image[\"src\"].replace('/', '-')"
   ]
  },
  {
   "cell_type": "code",
   "execution_count": 28,
   "metadata": {},
   "outputs": [
    {
     "data": {
      "text/plain": [
       "'hexlet-io/assets/professions/python.png'"
      ]
     },
     "execution_count": 28,
     "metadata": {},
     "output_type": "execute_result"
    }
   ],
   "source": [
    "image_name"
   ]
  },
  {
   "cell_type": "code",
   "execution_count": null,
   "metadata": {},
   "outputs": [],
   "source": []
  }
 ],
 "metadata": {
  "kernelspec": {
   "display_name": "Python 3.8.10 ('.venv': poetry)",
   "language": "python",
   "name": "python3"
  },
  "language_info": {
   "codemirror_mode": {
    "name": "ipython",
    "version": 3
   },
   "file_extension": ".py",
   "mimetype": "text/x-python",
   "name": "python",
   "nbconvert_exporter": "python",
   "pygments_lexer": "ipython3",
   "version": "3.8.10"
  },
  "orig_nbformat": 4,
  "vscode": {
   "interpreter": {
    "hash": "71bfcb4e25f3a19252cf92d45d4551daed63ec65d91940a10bec32c181958570"
   }
  }
 },
 "nbformat": 4,
 "nbformat_minor": 2
}
