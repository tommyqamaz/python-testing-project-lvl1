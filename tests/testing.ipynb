{
 "cells": [
  {
   "cell_type": "code",
   "execution_count": 81,
   "metadata": {},
   "outputs": [],
   "source": [
    "from typing import List, Tuple\n",
    "import os\n",
    "from bs4 import BeautifulSoup, Tag\n",
    "import requests\n",
    "from urllib.parse import urlparse\n",
    "import re\n",
    "from page_loader.utils import filter_name, join_urls"
   ]
  },
  {
   "cell_type": "code",
   "execution_count": 2,
   "metadata": {},
   "outputs": [],
   "source": [
    "with open(\"./fixtures/before.html\", \"r\") as f:\n",
    "    before = f.read()\n",
    "\n",
    "with open(\"./fixtures/after.html\", \"r\") as f:\n",
    "    after = f.read()"
   ]
  },
  {
   "cell_type": "code",
   "execution_count": 102,
   "metadata": {},
   "outputs": [],
   "source": [
    "bsoup = BeautifulSoup(before)\n",
    "asoup = BeautifulSoup(after)"
   ]
  },
  {
   "cell_type": "code",
   "execution_count": 103,
   "metadata": {},
   "outputs": [],
   "source": [
    "def get_link(tag: Tag) -> Tuple[str]:\n",
    "    for attr in [\"href\", \"src\"]:\n",
    "        link = tag.attrs.get(attr)\n",
    "        if link:\n",
    "            return link, attr\n",
    "    return None, None\n",
    "\n",
    "\n",
    "def get_file_ext(link):\n",
    "    file_ext = re.findall(r\"\\.[\\w]*$\", link)\n",
    "    if not file_ext:\n",
    "        return \".html\"\n",
    "    else:\n",
    "        return file_ext[0]"
   ]
  },
  {
   "cell_type": "code",
   "execution_count": 104,
   "metadata": {},
   "outputs": [],
   "source": [
    "def replace_links(\n",
    "    soup: BeautifulSoup, base_url: str, save_dir: str = \"\"\n",
    ") -> Tuple[BeautifulSoup, List[Tuple[str]]]:\n",
    "    \"\"\"Replace all links, images, css styles, scripts, etc.\n",
    "    to local copies in beatiful soup html document.\n",
    "\n",
    "    Example with url = \"https://ru.hexlet.io/courses\"\n",
    "    before:\n",
    "        <link href=\"/assets/application.css\" media=\"all\" rel=\"stylesheet\"/>\n",
    "        <img alt=\"Иконка профессии Python-программист\"\n",
    "         src=\"/assets/professions/python.png\"/>\n",
    "    after:\n",
    "        <link href=\"ru-hexlet-io-courses_files/ru-hexlet-io-assets-application.css\"\n",
    "        media=\"all\" rel=\"stylesheet\"/>\n",
    "        <img alt=\"Иконка профессии Python-программист\"\n",
    "        src=\"ru-hexlet-io-courses_files/ru-hexlet-io-assets-professions-python.png\"/>\n",
    "\n",
    "    Args:\n",
    "        soup (BeautifulSoup): The original document in which\n",
    "        you need to replace the links\n",
    "        base_url (str): Origin url for soup.\n",
    "        save_dir (str): Where to place replaced links.\n",
    "    Returns:\n",
    "        Tuple[BeautifulSoup, List[str]]: Soup with replaced links,\n",
    "        list with Tuple, where first element is link and second one is file name\n",
    "    \"\"\"\n",
    "    links = []\n",
    "\n",
    "    for tag in soup.find_all([\"link\", \"script\", \"img\"]):\n",
    "        link, attr = get_link(tag)\n",
    "        if link:\n",
    "\n",
    "            file_ext = get_file_ext(link)\n",
    "            link_netloc = link.replace(file_ext, \"\")\n",
    "            url_netloc = urlparse(base_url).netloc\n",
    "\n",
    "            if link.startswith(\"/\"):\n",
    "\n",
    "                new_link = filter_name(join_urls(url_netloc, link_netloc)) + file_ext\n",
    "\n",
    "                link_to_save = join_urls(base_url, link)\n",
    "                links.append((link_to_save, new_link))\n",
    "\n",
    "            elif url_netloc == urlparse(link).netloc:\n",
    "                new_link = filter_name(link_netloc) + file_ext\n",
    "                links.append((link_netloc + file_ext, new_link))\n",
    "            else:\n",
    "                continue  # we dont need to change or save other types of links\n",
    "            save_dir = filter_name(base_url) + \"_files\"\n",
    "            tag[attr] = join_urls(save_dir, new_link)\n",
    "\n",
    "    return soup, links"
   ]
  },
  {
   "cell_type": "code",
   "execution_count": 108,
   "metadata": {},
   "outputs": [],
   "source": [
    "pairs = [\n",
    "    (\n",
    "        \"https://ru.hexlet.io/courses/assets/application.css\",\n",
    "        \"ru-hexlet-io-assets-application.css\",\n",
    "    ),\n",
    "    (\"https://ru.hexlet.io/courses/courses\", \"ru-hexlet-io-courses.html\"),\n",
    "    (\n",
    "        \"https://ru.hexlet.io/courses/assets/professions/python.png\",\n",
    "        \"ru-hexlet-io-assets-professions-python.png\",\n",
    "    ),\n",
    "    (\"https://ru.hexlet.io/packs/js/runtime.js\", \"ru-hexlet-io-packs-js-runtime.js\"),\n",
    "]"
   ]
  },
  {
   "cell_type": "code",
   "execution_count": null,
   "metadata": {},
   "outputs": [],
   "source": [
    "replace_links(bsoup, 'https://ru.hexlet.io/courses', '.')"
   ]
  },
  {
   "cell_type": "code",
   "execution_count": 71,
   "metadata": {},
   "outputs": [],
   "source": [
    "tag = bsoup.find_all([\"link\", \"script\", \"img\"])[1]\n",
    "link, attr = get_link(tag)\n",
    "file_ext = get_file_ext(link)\n",
    "link_netloc = link.replace(file_ext, \"\")\n"
   ]
  },
  {
   "cell_type": "code",
   "execution_count": 109,
   "metadata": {},
   "outputs": [],
   "source": [
    "import requests_mock\n",
    "\n"
   ]
  },
  {
   "cell_type": "code",
   "execution_count": 112,
   "metadata": {},
   "outputs": [
    {
     "data": {
      "text/plain": [
       "'https://ru.hexlet.io/courses'"
      ]
     },
     "execution_count": 112,
     "metadata": {},
     "output_type": "execute_result"
    }
   ],
   "source": [
    "url"
   ]
  },
  {
   "cell_type": "code",
   "execution_count": 111,
   "metadata": {},
   "outputs": [
    {
     "data": {
      "text/plain": [
       "['https://ru.hexlet.io/courses/assets/application.css',\n",
       " 'https://ru.hexlet.io/courses/courses',\n",
       " 'https://ru.hexlet.io/courses/assets/professions/python.png',\n",
       " 'https://ru.hexlet.io/packs/js/runtime.js']"
      ]
     },
     "execution_count": 111,
     "metadata": {},
     "output_type": "execute_result"
    }
   ],
   "source": [
    "[i[0] for i in pairs]"
   ]
  },
  {
   "cell_type": "code",
   "execution_count": 117,
   "metadata": {},
   "outputs": [],
   "source": [
    "url = 'https://ru.hexlet.io/courses'"
   ]
  },
  {
   "cell_type": "code",
   "execution_count": 119,
   "metadata": {},
   "outputs": [],
   "source": [
    "url = 'hexlet.io'"
   ]
  },
  {
   "cell_type": "code",
   "execution_count": 120,
   "metadata": {},
   "outputs": [
    {
     "ename": "NoMockAddress",
     "evalue": "No mock address: GET https://ru.hexlet.io/courses/assets/application.css",
     "output_type": "error",
     "traceback": [
      "\u001b[0;31m---------------------------------------------------------------------------\u001b[0m",
      "\u001b[0;31mNoMockAddress\u001b[0m                             Traceback (most recent call last)",
      "\u001b[1;32m/home/qamaz/Documents/python_projects/hexlet/python-testing-project-lvl1/tests/testing.ipynb Cell 14\u001b[0m in \u001b[0;36m<cell line: 1>\u001b[0;34m()\u001b[0m\n\u001b[1;32m      <a href='vscode-notebook-cell:/home/qamaz/Documents/python_projects/hexlet/python-testing-project-lvl1/tests/testing.ipynb#Y105sZmlsZQ%3D%3D?line=1'>2</a>\u001b[0m mock\u001b[39m.\u001b[39mregister_uri(\u001b[39m\"\u001b[39m\u001b[39mGET\u001b[39m\u001b[39m\"\u001b[39m, url, content\u001b[39m=\u001b[39m\u001b[39mb\u001b[39m\u001b[39m'\u001b[39m\u001b[39mcontent\u001b[39m\u001b[39m'\u001b[39m)\n\u001b[1;32m      <a href='vscode-notebook-cell:/home/qamaz/Documents/python_projects/hexlet/python-testing-project-lvl1/tests/testing.ipynb#Y105sZmlsZQ%3D%3D?line=2'>3</a>\u001b[0m \u001b[39mfor\u001b[39;00m link \u001b[39min\u001b[39;00m pairs:\n\u001b[0;32m----> <a href='vscode-notebook-cell:/home/qamaz/Documents/python_projects/hexlet/python-testing-project-lvl1/tests/testing.ipynb#Y105sZmlsZQ%3D%3D?line=3'>4</a>\u001b[0m     res \u001b[39m=\u001b[39m requests\u001b[39m.\u001b[39;49mget(link[\u001b[39m0\u001b[39;49m])\n\u001b[1;32m      <a href='vscode-notebook-cell:/home/qamaz/Documents/python_projects/hexlet/python-testing-project-lvl1/tests/testing.ipynb#Y105sZmlsZQ%3D%3D?line=4'>5</a>\u001b[0m     \u001b[39mprint\u001b[39m(res\u001b[39m.\u001b[39mcontent)\n",
      "File \u001b[0;32m~/Documents/python_projects/hexlet/python-testing-project-lvl1/.venv/lib/python3.8/site-packages/requests/api.py:73\u001b[0m, in \u001b[0;36mget\u001b[0;34m(url, params, **kwargs)\u001b[0m\n\u001b[1;32m     62\u001b[0m \u001b[39mdef\u001b[39;00m \u001b[39mget\u001b[39m(url, params\u001b[39m=\u001b[39m\u001b[39mNone\u001b[39;00m, \u001b[39m*\u001b[39m\u001b[39m*\u001b[39mkwargs):\n\u001b[1;32m     63\u001b[0m     \u001b[39mr\u001b[39m\u001b[39m\"\"\"Sends a GET request.\u001b[39;00m\n\u001b[1;32m     64\u001b[0m \n\u001b[1;32m     65\u001b[0m \u001b[39m    :param url: URL for the new :class:`Request` object.\u001b[39;00m\n\u001b[0;32m   (...)\u001b[0m\n\u001b[1;32m     70\u001b[0m \u001b[39m    :rtype: requests.Response\u001b[39;00m\n\u001b[1;32m     71\u001b[0m \u001b[39m    \"\"\"\u001b[39;00m\n\u001b[0;32m---> 73\u001b[0m     \u001b[39mreturn\u001b[39;00m request(\u001b[39m\"\u001b[39;49m\u001b[39mget\u001b[39;49m\u001b[39m\"\u001b[39;49m, url, params\u001b[39m=\u001b[39;49mparams, \u001b[39m*\u001b[39;49m\u001b[39m*\u001b[39;49mkwargs)\n",
      "File \u001b[0;32m~/Documents/python_projects/hexlet/python-testing-project-lvl1/.venv/lib/python3.8/site-packages/requests/api.py:59\u001b[0m, in \u001b[0;36mrequest\u001b[0;34m(method, url, **kwargs)\u001b[0m\n\u001b[1;32m     55\u001b[0m \u001b[39m# By using the 'with' statement we are sure the session is closed, thus we\u001b[39;00m\n\u001b[1;32m     56\u001b[0m \u001b[39m# avoid leaving sockets open which can trigger a ResourceWarning in some\u001b[39;00m\n\u001b[1;32m     57\u001b[0m \u001b[39m# cases, and look like a memory leak in others.\u001b[39;00m\n\u001b[1;32m     58\u001b[0m \u001b[39mwith\u001b[39;00m sessions\u001b[39m.\u001b[39mSession() \u001b[39mas\u001b[39;00m session:\n\u001b[0;32m---> 59\u001b[0m     \u001b[39mreturn\u001b[39;00m session\u001b[39m.\u001b[39;49mrequest(method\u001b[39m=\u001b[39;49mmethod, url\u001b[39m=\u001b[39;49murl, \u001b[39m*\u001b[39;49m\u001b[39m*\u001b[39;49mkwargs)\n",
      "File \u001b[0;32m~/Documents/python_projects/hexlet/python-testing-project-lvl1/.venv/lib/python3.8/site-packages/requests/sessions.py:587\u001b[0m, in \u001b[0;36mSession.request\u001b[0;34m(self, method, url, params, data, headers, cookies, files, auth, timeout, allow_redirects, proxies, hooks, stream, verify, cert, json)\u001b[0m\n\u001b[1;32m    582\u001b[0m send_kwargs \u001b[39m=\u001b[39m {\n\u001b[1;32m    583\u001b[0m     \u001b[39m\"\u001b[39m\u001b[39mtimeout\u001b[39m\u001b[39m\"\u001b[39m: timeout,\n\u001b[1;32m    584\u001b[0m     \u001b[39m\"\u001b[39m\u001b[39mallow_redirects\u001b[39m\u001b[39m\"\u001b[39m: allow_redirects,\n\u001b[1;32m    585\u001b[0m }\n\u001b[1;32m    586\u001b[0m send_kwargs\u001b[39m.\u001b[39mupdate(settings)\n\u001b[0;32m--> 587\u001b[0m resp \u001b[39m=\u001b[39m \u001b[39mself\u001b[39;49m\u001b[39m.\u001b[39;49msend(prep, \u001b[39m*\u001b[39;49m\u001b[39m*\u001b[39;49msend_kwargs)\n\u001b[1;32m    589\u001b[0m \u001b[39mreturn\u001b[39;00m resp\n",
      "File \u001b[0;32m~/Documents/python_projects/hexlet/python-testing-project-lvl1/.venv/lib/python3.8/site-packages/requests_mock/mocker.py:144\u001b[0m, in \u001b[0;36mMockerCore.start.<locals>._fake_send\u001b[0;34m(session, request, **kwargs)\u001b[0m\n\u001b[1;32m    133\u001b[0m \u001b[39m# NOTE(jamielennox): self._last_send vs _original_send. Whilst it\u001b[39;00m\n\u001b[1;32m    134\u001b[0m \u001b[39m# seems like here we would use _last_send there is the possibility\u001b[39;00m\n\u001b[1;32m    135\u001b[0m \u001b[39m# that the user has messed up and is somehow nesting their mockers.\u001b[39;00m\n\u001b[0;32m   (...)\u001b[0m\n\u001b[1;32m    140\u001b[0m \u001b[39m# function so that our most recently patched send call ends up\u001b[39;00m\n\u001b[1;32m    141\u001b[0m \u001b[39m# putting in the most recent adapter. It feels funny, but it works.\u001b[39;00m\n\u001b[1;32m    143\u001b[0m \u001b[39mtry\u001b[39;00m:\n\u001b[0;32m--> 144\u001b[0m     \u001b[39mreturn\u001b[39;00m _original_send(session, request, \u001b[39m*\u001b[39;49m\u001b[39m*\u001b[39;49mkwargs)\n\u001b[1;32m    145\u001b[0m \u001b[39mexcept\u001b[39;00m exceptions\u001b[39m.\u001b[39mNoMockAddress:\n\u001b[1;32m    146\u001b[0m     \u001b[39mif\u001b[39;00m \u001b[39mnot\u001b[39;00m \u001b[39mself\u001b[39m\u001b[39m.\u001b[39mreal_http:\n",
      "File \u001b[0;32m~/Documents/python_projects/hexlet/python-testing-project-lvl1/.venv/lib/python3.8/site-packages/requests/sessions.py:701\u001b[0m, in \u001b[0;36mSession.send\u001b[0;34m(self, request, **kwargs)\u001b[0m\n\u001b[1;32m    698\u001b[0m start \u001b[39m=\u001b[39m preferred_clock()\n\u001b[1;32m    700\u001b[0m \u001b[39m# Send the request\u001b[39;00m\n\u001b[0;32m--> 701\u001b[0m r \u001b[39m=\u001b[39m adapter\u001b[39m.\u001b[39;49msend(request, \u001b[39m*\u001b[39;49m\u001b[39m*\u001b[39;49mkwargs)\n\u001b[1;32m    703\u001b[0m \u001b[39m# Total elapsed time of the request (approximately)\u001b[39;00m\n\u001b[1;32m    704\u001b[0m elapsed \u001b[39m=\u001b[39m preferred_clock() \u001b[39m-\u001b[39m start\n",
      "File \u001b[0;32m~/Documents/python_projects/hexlet/python-testing-project-lvl1/.venv/lib/python3.8/site-packages/requests_mock/adapter.py:261\u001b[0m, in \u001b[0;36mAdapter.send\u001b[0;34m(self, request, **kwargs)\u001b[0m\n\u001b[1;32m    256\u001b[0m         logger\u001b[39m.\u001b[39mdebug(\u001b[39m'\u001b[39m\u001b[39m{}\u001b[39;00m\u001b[39m \u001b[39m\u001b[39m{}\u001b[39;00m\u001b[39m \u001b[39m\u001b[39m{}\u001b[39;00m\u001b[39m'\u001b[39m\u001b[39m.\u001b[39mformat(request\u001b[39m.\u001b[39m_request\u001b[39m.\u001b[39mmethod,\n\u001b[1;32m    257\u001b[0m                                        request\u001b[39m.\u001b[39m_request\u001b[39m.\u001b[39murl,\n\u001b[1;32m    258\u001b[0m                                        resp\u001b[39m.\u001b[39mstatus_code))\n\u001b[1;32m    259\u001b[0m         \u001b[39mreturn\u001b[39;00m resp\n\u001b[0;32m--> 261\u001b[0m \u001b[39mraise\u001b[39;00m exceptions\u001b[39m.\u001b[39mNoMockAddress(request)\n",
      "\u001b[0;31mNoMockAddress\u001b[0m: No mock address: GET https://ru.hexlet.io/courses/assets/application.css"
     ]
    }
   ],
   "source": [
    "with requests_mock.Mocker() as mock:\n",
    "    mock.register_uri(\"GET\", url, content=b'content')\n",
    "    for link in pairs:\n",
    "        res = requests.get(link[0])\n",
    "        print(res.content)"
   ]
  },
  {
   "cell_type": "code",
   "execution_count": null,
   "metadata": {},
   "outputs": [],
   "source": []
  }
 ],
 "metadata": {
  "kernelspec": {
   "display_name": "Python 3.8.10 ('.venv': poetry)",
   "language": "python",
   "name": "python3"
  },
  "language_info": {
   "codemirror_mode": {
    "name": "ipython",
    "version": 3
   },
   "file_extension": ".py",
   "mimetype": "text/x-python",
   "name": "python",
   "nbconvert_exporter": "python",
   "pygments_lexer": "ipython3",
   "version": "3.8.10"
  },
  "orig_nbformat": 4,
  "vscode": {
   "interpreter": {
    "hash": "71bfcb4e25f3a19252cf92d45d4551daed63ec65d91940a10bec32c181958570"
   }
  }
 },
 "nbformat": 4,
 "nbformat_minor": 2
}
